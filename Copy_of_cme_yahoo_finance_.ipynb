{
  "nbformat": 4,
  "nbformat_minor": 0,
  "metadata": {
    "colab": {
      "name": "Copy_of_cme_yahoo_finance_.ipynb",
      "provenance": []
    },
    "kernelspec": {
      "display_name": "Python 3",
      "name": "python3"
    },
    "language_info": {
      "name": "python"
    }
  },
  "cells": [
    {
      "cell_type": "code",
      "metadata": {
        "id": "jJtClp_uq7J_",
        "colab": {
          "base_uri": "https://localhost:8080/"
        },
        "outputId": "7540e9d3-07f4-4c5c-c626-7038298b3b4d"
      },
      "source": [
        "pip install yfinance"
      ],
      "execution_count": null,
      "outputs": [
        {
          "output_type": "stream",
          "name": "stdout",
          "text": [
            "Requirement already satisfied: yfinance in /usr/local/lib/python3.7/dist-packages (0.1.63)\n",
            "Requirement already satisfied: lxml>=4.5.1 in /usr/local/lib/python3.7/dist-packages (from yfinance) (4.6.3)\n",
            "Requirement already satisfied: requests>=2.20 in /usr/local/lib/python3.7/dist-packages (from yfinance) (2.23.0)\n",
            "Requirement already satisfied: numpy>=1.15 in /usr/local/lib/python3.7/dist-packages (from yfinance) (1.19.5)\n",
            "Requirement already satisfied: pandas>=0.24 in /usr/local/lib/python3.7/dist-packages (from yfinance) (1.1.5)\n",
            "Requirement already satisfied: multitasking>=0.0.7 in /usr/local/lib/python3.7/dist-packages (from yfinance) (0.0.9)\n",
            "Requirement already satisfied: python-dateutil>=2.7.3 in /usr/local/lib/python3.7/dist-packages (from pandas>=0.24->yfinance) (2.8.2)\n",
            "Requirement already satisfied: pytz>=2017.2 in /usr/local/lib/python3.7/dist-packages (from pandas>=0.24->yfinance) (2018.9)\n",
            "Requirement already satisfied: six>=1.5 in /usr/local/lib/python3.7/dist-packages (from python-dateutil>=2.7.3->pandas>=0.24->yfinance) (1.15.0)\n",
            "Requirement already satisfied: idna<3,>=2.5 in /usr/local/lib/python3.7/dist-packages (from requests>=2.20->yfinance) (2.10)\n",
            "Requirement already satisfied: certifi>=2017.4.17 in /usr/local/lib/python3.7/dist-packages (from requests>=2.20->yfinance) (2021.5.30)\n",
            "Requirement already satisfied: urllib3!=1.25.0,!=1.25.1,<1.26,>=1.21.1 in /usr/local/lib/python3.7/dist-packages (from requests>=2.20->yfinance) (1.24.3)\n",
            "Requirement already satisfied: chardet<4,>=3.0.2 in /usr/local/lib/python3.7/dist-packages (from requests>=2.20->yfinance) (3.0.4)\n"
          ]
        }
      ]
    },
    {
      "cell_type": "markdown",
      "metadata": {
        "id": "YcDlP4s72VkN"
      },
      "source": [
        "# New Section"
      ]
    },
    {
      "cell_type": "code",
      "metadata": {
        "id": "UiNkjFRcssAP",
        "colab": {
          "base_uri": "https://localhost:8080/"
        },
        "outputId": "6e913a43-7e91-4640-e25b-a3d0506b81f4"
      },
      "source": [
        "pip install yahoofinancials"
      ],
      "execution_count": null,
      "outputs": [
        {
          "output_type": "stream",
          "name": "stdout",
          "text": [
            "Requirement already satisfied: yahoofinancials in /usr/local/lib/python3.7/dist-packages (1.6)\n",
            "Requirement already satisfied: pytz in /usr/local/lib/python3.7/dist-packages (from yahoofinancials) (2018.9)\n",
            "Requirement already satisfied: beautifulsoup4 in /usr/local/lib/python3.7/dist-packages (from yahoofinancials) (4.6.3)\n"
          ]
        }
      ]
    },
    {
      "cell_type": "code",
      "metadata": {
        "id": "s2MNF-cxnFJw"
      },
      "source": [
        "import yfinance as yf\n",
        "\n",
        "aapl = yf.Ticker(\"aapl\")\n",
        "#aapl.info\n"
      ],
      "execution_count": null,
      "outputs": []
    },
    {
      "cell_type": "code",
      "metadata": {
        "id": "VaE0Fvm6q14_"
      },
      "source": [
        "from yahoofinancials import YahooFinancials\n",
        "yahoo_financials = YahooFinancials('AAPL')\n",
        "#print(yahoo_financials.get_key_statistics_data())"
      ],
      "execution_count": null,
      "outputs": []
    },
    {
      "cell_type": "code",
      "metadata": {
        "id": "vnJrlEZlutxZ"
      },
      "source": [
        "import pandas as pd \n",
        "import numpy as np"
      ],
      "execution_count": null,
      "outputs": []
    },
    {
      "cell_type": "code",
      "metadata": {
        "id": "YXb1AO4TvKG7"
      },
      "source": [
        "df = pd.read_excel(\"ISO10383_MIC.xls\", sheet_name=\"MICs List by Country\")\n",
        "#df"
      ],
      "execution_count": null,
      "outputs": []
    },
    {
      "cell_type": "code",
      "metadata": {
        "id": "JHmMWRFRwPaR"
      },
      "source": [
        "Company_names = list(df.iloc[:, 2])\n"
      ],
      "execution_count": null,
      "outputs": []
    },
    {
      "cell_type": "code",
      "metadata": {
        "colab": {
          "base_uri": "https://localhost:8080/"
        },
        "id": "L2OvnW7neATN",
        "outputId": "bc5b3081-e5c6-4c56-c262-dc91731f2adc"
      },
      "source": [
        "Company_names = list(dict.fromkeys(Company_names))\n",
        "len(Company_names)"
      ],
      "execution_count": null,
      "outputs": [
        {
          "output_type": "execute_result",
          "data": {
            "text/plain": [
              "1183"
            ]
          },
          "metadata": {},
          "execution_count": 8
        }
      ]
    },
    {
      "cell_type": "code",
      "metadata": {
        "id": "wuxxySbOOBYv"
      },
      "source": [
        "Company_names_part1 = Company_names[0:400]\n",
        "Company_names_part2 = Company_names[400:800]\n",
        "Company_names_part3 = Company_names[800:len(Company_names)]"
      ],
      "execution_count": null,
      "outputs": []
    },
    {
      "cell_type": "code",
      "metadata": {
        "id": "-qIdg0GWxISE"
      },
      "source": [
        "Company_info_part1=[]\n",
        "for i in Company_names_part1:\n",
        "  j = YahooFinancials(i)\n",
        "  #print(j.get_key_statistics_data())\n",
        "  if j.get_key_statistics_data()[i] == None: \n",
        "    continue\n",
        "  elif j.get_key_statistics_data()[i] == {}:\n",
        "    continue\n",
        "  else:\n",
        "    Company_info_part1.append(j.get_key_statistics_data())\n"
      ],
      "execution_count": null,
      "outputs": []
    },
    {
      "cell_type": "code",
      "metadata": {
        "id": "uo8bN27Bh_b9",
        "colab": {
          "base_uri": "https://localhost:8080/"
        },
        "outputId": "42d5be92-d51f-45d3-fa3f-d130e73cbdc7"
      },
      "source": [
        "len(Company_info_part1)"
      ],
      "execution_count": null,
      "outputs": [
        {
          "output_type": "execute_result",
          "data": {
            "text/plain": [
              "23"
            ]
          },
          "metadata": {},
          "execution_count": 11
        }
      ]
    },
    {
      "cell_type": "code",
      "metadata": {
        "id": "Y-AGQwhyp5-L"
      },
      "source": [
        "Company_info_part2=[]\n",
        "for i in Company_names_part2:\n",
        "  j = YahooFinancials(i)\n",
        "  #print(j.get_key_statistics_data())\n",
        "  if j.get_key_statistics_data()[i] == None: \n",
        "    continue\n",
        "  elif j.get_key_statistics_data()[i] == {}:\n",
        "    continue\n",
        "  else:\n",
        "    Company_info_part2.append(j.get_key_statistics_data())"
      ],
      "execution_count": null,
      "outputs": []
    },
    {
      "cell_type": "code",
      "metadata": {
        "id": "mQNfdqFc3DVw",
        "colab": {
          "base_uri": "https://localhost:8080/"
        },
        "outputId": "4e81c83d-2498-4e46-b6fc-6020ccd00581"
      },
      "source": [
        "len(Company_info_part2)"
      ],
      "execution_count": null,
      "outputs": [
        {
          "output_type": "execute_result",
          "data": {
            "text/plain": [
              "34"
            ]
          },
          "metadata": {},
          "execution_count": 13
        }
      ]
    },
    {
      "cell_type": "code",
      "metadata": {
        "id": "bT1NgkxtPLce"
      },
      "source": [
        "Company_info_part3=[]\n",
        "for i in Company_names_part3:\n",
        "  j = YahooFinancials(i)\n",
        "  #print(j.get_key_statistics_data())\n",
        "  if j.get_key_statistics_data()[i] == None: \n",
        "    continue\n",
        "  elif j.get_key_statistics_data()[i] == {}:\n",
        "    continue\n",
        "  else:\n",
        "    Company_info_part3.append(j.get_key_statistics_data())"
      ],
      "execution_count": null,
      "outputs": []
    },
    {
      "cell_type": "code",
      "metadata": {
        "id": "W-oEskUi3EyN",
        "colab": {
          "base_uri": "https://localhost:8080/"
        },
        "outputId": "cde6078c-932c-4b40-dcca-4e88de6cfa82"
      },
      "source": [
        "len(Company_info_part3)"
      ],
      "execution_count": null,
      "outputs": [
        {
          "output_type": "execute_result",
          "data": {
            "text/plain": [
              "51"
            ]
          },
          "metadata": {},
          "execution_count": 15
        }
      ]
    },
    {
      "cell_type": "code",
      "metadata": {
        "id": "jtAU87rfQaQQ",
        "colab": {
          "base_uri": "https://localhost:8080/"
        },
        "outputId": "e554e59e-7d86-4220-ea4c-fca64528cca0"
      },
      "source": [
        "Company_info=Company_info_part1+Company_info_part2+Company_info_part3\n",
        "len(Company_info)"
      ],
      "execution_count": null,
      "outputs": [
        {
          "output_type": "execute_result",
          "data": {
            "text/plain": [
              "108"
            ]
          },
          "metadata": {},
          "execution_count": 20
        }
      ]
    },
    {
      "cell_type": "code",
      "metadata": {
        "id": "K5msWDOcvUuO"
      },
      "source": [
        "newdic = {'withvalue': Company_info}"
      ],
      "execution_count": null,
      "outputs": []
    },
    {
      "cell_type": "code",
      "metadata": {
        "id": "lnoXJNKFvUfq"
      },
      "source": [
        "df = pd.DataFrame(newdic) \n",
        "df.to_csv('company_yahoo.csv')"
      ],
      "execution_count": null,
      "outputs": []
    },
    {
      "cell_type": "code",
      "metadata": {
        "id": "YoDINcLgGggH"
      },
      "source": [
        ""
      ],
      "execution_count": null,
      "outputs": []
    },
    {
      "cell_type": "code",
      "metadata": {
        "id": "IGYM7e78Gga-"
      },
      "source": [
        ""
      ],
      "execution_count": null,
      "outputs": []
    },
    {
      "cell_type": "code",
      "metadata": {
        "id": "I2BJ9Ygmxifv"
      },
      "source": [
        "df_company_yahoo = pd.read_csv(\"company_yahoo.csv\")"
      ],
      "execution_count": null,
      "outputs": []
    },
    {
      "cell_type": "code",
      "metadata": {
        "id": "p6YlO1ZD0olG"
      },
      "source": [
        "import ast"
      ],
      "execution_count": null,
      "outputs": []
    },
    {
      "cell_type": "code",
      "metadata": {
        "id": "I_mrzu8Xxxln"
      },
      "source": [
        "company_yahoo_list=[]\n",
        "for i in df_company_yahoo.iloc[:,1]:\n",
        "  company_yahoo_list.append(ast.literal_eval(i))\n"
      ],
      "execution_count": null,
      "outputs": []
    },
    {
      "cell_type": "code",
      "metadata": {
        "id": "WZgY8VjS8_Wh"
      },
      "source": [
        "tic = []\n",
        "for i in range(len(company_yahoo_list)):\n",
        "  tic.append(*(company_yahoo_list[i]))\n",
        "\n",
        "len(tic)\n",
        "newdict = {'Company_tic': tic}\n"
      ],
      "execution_count": null,
      "outputs": []
    },
    {
      "cell_type": "code",
      "metadata": {
        "colab": {
          "base_uri": "https://localhost:8080/"
        },
        "id": "ESqa4b-zOpn9",
        "outputId": "a0ce044b-0db8-48b9-fb78-08833491c522"
      },
      "source": [
        ""
      ],
      "execution_count": null,
      "outputs": [
        {
          "output_type": "execute_result",
          "data": {
            "text/plain": [
              "0.07000005"
            ]
          },
          "metadata": {},
          "execution_count": 164
        }
      ]
    },
    {
      "cell_type": "code",
      "metadata": {
        "colab": {
          "base_uri": "https://localhost:8080/"
        },
        "id": "RaLHMAJjOlQb",
        "outputId": "49f868a2-435f-4eeb-ce2d-55c9ef71ca58"
      },
      "source": [
        "company_yahoo_list[0][tic[0]]"
      ],
      "execution_count": null,
      "outputs": [
        {
          "output_type": "execute_result",
          "data": {
            "text/plain": [
              "{'52WeekChange': 0.07000005,\n",
              " 'SandP52WeekChange': 0.27952945,\n",
              " 'annualHoldingsTurnover': None,\n",
              " 'annualReportExpenseRatio': None,\n",
              " 'beta': 0.579894,\n",
              " 'beta3Year': None,\n",
              " 'bookValue': 1.548,\n",
              " 'category': None,\n",
              " 'dateShortInterest': 1631664000,\n",
              " 'earningsQuarterlyGrowth': -0.992,\n",
              " 'enterpriseToEbitda': 8.013,\n",
              " 'enterpriseToRevenue': 4.889,\n",
              " 'enterpriseValue': 466674176,\n",
              " 'fiveYearAverageReturn': None,\n",
              " 'floatShares': 41114985,\n",
              " 'forwardEps': 0.8,\n",
              " 'forwardPE': 9.3375,\n",
              " 'fundFamily': None,\n",
              " 'fundInceptionDate': '-',\n",
              " 'heldPercentInsiders': 0.43155998,\n",
              " 'heldPercentInstitutions': 0.35283002,\n",
              " 'impliedSharesOutstanding': None,\n",
              " 'lastCapGain': None,\n",
              " 'lastDividendDate': '-',\n",
              " 'lastDividendValue': None,\n",
              " 'lastFiscalYearEnd': 1609372800,\n",
              " 'lastSplitDate': '-',\n",
              " 'lastSplitFactor': None,\n",
              " 'legalType': None,\n",
              " 'maxAge': 1,\n",
              " 'morningStarOverallRating': None,\n",
              " 'morningStarRiskRating': None,\n",
              " 'mostRecentQuarter': 1625011200,\n",
              " 'netIncomeToCommon': 43706476,\n",
              " 'nextFiscalYearEnd': 1672444800,\n",
              " 'pegRatio': 9.04,\n",
              " 'priceHint': 2,\n",
              " 'priceToBook': 4.8255816,\n",
              " 'priceToSalesTrailing12Months': None,\n",
              " 'profitMargins': 0.45786,\n",
              " 'revenueQuarterlyGrowth': None,\n",
              " 'sharesOutstanding': 75076704,\n",
              " 'sharesPercentSharesOut': 0.0224,\n",
              " 'sharesShort': 1679213,\n",
              " 'sharesShortPreviousMonthDate': '2021-08-13',\n",
              " 'sharesShortPriorMonth': 1744386,\n",
              " 'shortPercentOfFloat': 0.0348,\n",
              " 'shortRatio': 5,\n",
              " 'threeYearAverageReturn': None,\n",
              " 'totalAssets': None,\n",
              " 'trailingEps': 0.545,\n",
              " 'yield': None,\n",
              " 'ytdReturn': None}"
            ]
          },
          "metadata": {},
          "execution_count": 161
        }
      ]
    },
    {
      "cell_type": "code",
      "metadata": {
        "id": "lIHMEaZU_brm"
      },
      "source": [
        "#name = list(company_yahoo_list[1][tic[1]].keys())\n",
        "name=['enterpriseToRevenue',\n",
        " 'profitMargins',\n",
        " 'enterpriseToEbitda',\n",
        " '52WeekChange',\n",
        " 'forwardEps',\n",
        " 'bookValue',\n",
        " 'lastFiscalYearEnd',\n",
        " 'netIncomeToCommon',\n",
        " 'trailingEps',\n",
        " 'SandP52WeekChange',\n",
        " 'priceToBook',\n",
        " 'nextFiscalYearEnd',\n",
        " 'mostRecentQuarter',\n",
        " 'enterpriseValue',\n",
        " 'priceHint',\n",
        " 'pegRatio',\n",
        " 'ytdReturn',\n",
        " 'forwardPE']"
      ],
      "execution_count": null,
      "outputs": []
    },
    {
      "cell_type": "code",
      "metadata": {
        "id": "HpqoTBWC5raI"
      },
      "source": [
        "\n",
        "for i in name:\n",
        "  data = []\n",
        "  for j in range(len(company_yahoo_list)):\n",
        "    if company_yahoo_list[j][tic[j]][i] == None:\n",
        "      data.append(\"NA\")\n",
        "    else:\n",
        "      data.append(company_yahoo_list[j][tic[j]][i])\n",
        "  newdict[i] = data"
      ],
      "execution_count": null,
      "outputs": []
    },
    {
      "cell_type": "code",
      "metadata": {
        "id": "RY4BaCPxywe5"
      },
      "source": [
        "df = pd.DataFrame(newdict) \n",
        "df.to_csv('list_company_info_yahoo.csv')"
      ],
      "execution_count": null,
      "outputs": []
    }
  ]
}